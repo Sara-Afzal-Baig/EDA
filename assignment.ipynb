{
 "cells": [
  {
   "cell_type": "markdown",
   "id": "ecfcf3ac",
   "metadata": {},
   "source": [
    "# Assignment 1"
   ]
  },
  {
   "cell_type": "markdown",
   "id": "44420b4f",
   "metadata": {},
   "source": [
    "### Assignment Instructions"
   ]
  },
  {
   "cell_type": "markdown",
   "id": "28707f75",
   "metadata": {},
   "source": [
    "* **How to install 'otter'**: Run `pip install otter-grader` in your Anaconda Command Prompt\n",
    "* **Otter**: It is an autograder that we will be using for grading your notebooks.\n",
    "* **grader.check('qn')**: This command runs test cases for nth question `qn` provided to you and displays the result. But these are not the only test cases, these are provided just for your basic testing. There will be some *hidden test cases* on which your answers will be tested as well.\n",
    "* You are **not** allowed to edit any pre-defined variables and as per the instructions for every question you have to assign your answers to these variables.\n",
    "* Write your answers in place of `...`"
   ]
  },
  {
   "cell_type": "markdown",
   "id": "7d87ba79",
   "metadata": {},
   "source": [
    "### Submission Instructions\n"
   ]
  },
  {
   "cell_type": "markdown",
   "id": "463a4f91",
   "metadata": {},
   "source": [
    "* Rename your notebook as **YourName_DA1.ipynb**. (e.g. *`JohnDoe_DA1.ipynb`*)\n",
    "* Download your notebook as a PDF and rename it to **YourName_DA1.pdf**\n",
    "* Only submit your notebook and PDF in a zip file named **YourName_DA1.zip**"
   ]
  },
  {
   "cell_type": "code",
   "execution_count": null,
   "id": "14db6c90",
   "metadata": {},
   "outputs": [],
   "source": [
    "# Initialize Otter\n",
    "import otter\n",
    "grader = otter.Notebook()"
   ]
  },
  {
   "cell_type": "code",
   "execution_count": null,
   "id": "89b9ed5a",
   "metadata": {},
   "outputs": [],
   "source": [
    "# Import necessary libraries here\n",
    "import pandas as pd\n",
    "import numpy as np\n",
    "import matplotlib.pyplot as plt"
   ]
  },
  {
   "cell_type": "markdown",
   "id": "f84fba49",
   "metadata": {},
   "source": [
    "**Question 1:** We will begin from the very basics and attempt to create the table below. (`Note:` *name* is ***not*** an index_col)\n",
    "\n",
    "| name | weight | height | BMI |\n",
    "|-----|-----|-----| -----|\n",
    "| Max | 110 | 70 | 15.78 | \n",
    "| Oliver | 115 | 71 | 16.04 |\n",
    "| Tom | 120 | 72 | 16.27 |\n",
    "| Harry |125 | 73 | 16.49 |\n",
    "| Jasper | 130 | 74 | 16.69 |\n",
    "| Finn | 135 | 75 | 16.87 |\n",
    "| Felix | 140 | 76 | 17.04 |\n",
    "| Asher | 145 | 77 | 17.19 |"
   ]
  },
  {
   "cell_type": "markdown",
   "id": "1fdb23a6",
   "metadata": {},
   "source": [
    "**a:** Generate a series with the names of all the people. Assign it to the variable `name`."
   ]
  },
  {
   "cell_type": "code",
   "execution_count": null,
   "id": "4c8cac75",
   "metadata": {},
   "outputs": [],
   "source": [
    "# Please write your code below\n",
    "\n",
    "name = ..."
   ]
  },
  {
   "cell_type": "code",
   "execution_count": null,
   "id": "6296b602",
   "metadata": {},
   "outputs": [],
   "source": [
    "grader.check('q1a')"
   ]
  },
  {
   "cell_type": "markdown",
   "id": "ca103c89",
   "metadata": {},
   "source": [
    "**b:** Generate a series that contains the weight of all the people. Assign it to `weights`. (You are required to use a python function to do this. Hardcoding all values manually is not allowed)."
   ]
  },
  {
   "cell_type": "code",
   "execution_count": null,
   "id": "85204519",
   "metadata": {},
   "outputs": [],
   "source": [
    "# Please write your code below\n",
    "\n",
    "weights = ..."
   ]
  },
  {
   "cell_type": "code",
   "execution_count": null,
   "id": "c2fa6010",
   "metadata": {},
   "outputs": [],
   "source": [
    "grader.check('q1b')"
   ]
  },
  {
   "cell_type": "markdown",
   "id": "8bf91be9",
   "metadata": {},
   "source": [
    "**c:** Generate a series that contains the height of all the people. Assign it to `heights`. (You are required to use a python function to do this. Hardcoding all values manually is not allowed)."
   ]
  },
  {
   "cell_type": "code",
   "execution_count": null,
   "id": "a53068c1",
   "metadata": {},
   "outputs": [],
   "source": [
    "# Please write your code below\n",
    "\n",
    "heights = ..."
   ]
  },
  {
   "cell_type": "code",
   "execution_count": null,
   "id": "6c194efd",
   "metadata": {},
   "outputs": [],
   "source": [
    "grader.check('q1c')"
   ]
  },
  {
   "cell_type": "markdown",
   "id": "282ec0d2",
   "metadata": {},
   "source": [
    "**d:** Using the above series generate a series that contains the BMI of each person. The formula for BMI is as follows:\n",
    "$$ BMI = weight (lb) ÷ height^2 (inches) * 703 $$\n",
    "Assume that the given weight is in lb and height is in inches. Assign it to the variable `BMI`.  Round your answers to 2 decimal places  (You are not allowed to hardcode)."
   ]
  },
  {
   "cell_type": "code",
   "execution_count": null,
   "id": "83005433",
   "metadata": {},
   "outputs": [],
   "source": [
    "# Please write your code below\n",
    "\n",
    "BMI = ..."
   ]
  },
  {
   "cell_type": "code",
   "execution_count": null,
   "id": "fbb35ec8",
   "metadata": {},
   "outputs": [],
   "source": [
    "grader.check('q1d')"
   ]
  },
  {
   "cell_type": "markdown",
   "id": "faf05a48",
   "metadata": {},
   "source": [
    "**e:** Finally, use all the above created series to create the dataframe shown above. Assign it to `BMIData`."
   ]
  },
  {
   "cell_type": "code",
   "execution_count": null,
   "id": "0683b1ef",
   "metadata": {},
   "outputs": [],
   "source": [
    "# Please write your code below\n",
    "\n",
    "BMIData = ..."
   ]
  },
  {
   "cell_type": "code",
   "execution_count": null,
   "id": "319ec95b",
   "metadata": {},
   "outputs": [],
   "source": [
    "grader.check('q1e')"
   ]
  },
  {
   "cell_type": "markdown",
   "id": "14e9df1a",
   "metadata": {},
   "source": [
    "We have provided you with a data set names `smartphones.csv`. This dataset contains information about various smartphones and their specifications."
   ]
  },
  {
   "cell_type": "markdown",
   "id": "2ac48852",
   "metadata": {},
   "source": [
    "**Question 2:** Read dataset from `smartphones.csv` and assign this dataframe to `smartphoneData`. Print the first 5 rows of the dataset so you know what the data is like: "
   ]
  },
  {
   "cell_type": "code",
   "execution_count": null,
   "id": "ba15b1b7",
   "metadata": {},
   "outputs": [],
   "source": [
    "# Please write your code below\n",
    "\n",
    "smartphoneData = ..."
   ]
  },
  {
   "cell_type": "code",
   "execution_count": null,
   "id": "1de50bf0",
   "metadata": {},
   "outputs": [],
   "source": [
    "grader.check('q2')"
   ]
  },
  {
   "cell_type": "markdown",
   "id": "8508a425",
   "metadata": {},
   "source": [
    "**Question 3:** In order to familiarize ourself with the dataset further, it is good to know the shape. Print the shape of the dataset and assign it to the variable `smartphoneDatashape`:"
   ]
  },
  {
   "cell_type": "code",
   "execution_count": null,
   "id": "f5e29b94",
   "metadata": {},
   "outputs": [],
   "source": [
    "# Please write your code below\n",
    "smartphoneDatashape = ..."
   ]
  },
  {
   "cell_type": "code",
   "execution_count": null,
   "id": "3a92408c",
   "metadata": {},
   "outputs": [],
   "source": [
    "grader.check('q3')"
   ]
  },
  {
   "cell_type": "markdown",
   "id": "0f3728fa",
   "metadata": {},
   "source": [
    "**Question 4:** Now that we know the shape of the dataset check if null values are present in it by writing a relevant code snippet that would do the job for you. Store the number of rows with null values, if any, in the variable `smartphoneDfNull`."
   ]
  },
  {
   "cell_type": "code",
   "execution_count": null,
   "id": "55d1075b",
   "metadata": {},
   "outputs": [],
   "source": [
    "# Please write your code below\n",
    "smartphoneDfNull = ..."
   ]
  },
  {
   "cell_type": "code",
   "execution_count": null,
   "id": "ca3513c1",
   "metadata": {},
   "outputs": [],
   "source": [
    "grader.check('q4')"
   ]
  },
  {
   "cell_type": "markdown",
   "id": "5aecb338",
   "metadata": {},
   "source": [
    "**Question 5a:** If you found any null values (missing values) from the code above, replace all those values with the average value in their respective columns. Do this only for columns containing numeric values. You are allowed to use the built-in mean() function here."
   ]
  },
  {
   "cell_type": "code",
   "execution_count": null,
   "id": "25785993",
   "metadata": {},
   "outputs": [],
   "source": [
    "# Please write your code below\n",
    "..."
   ]
  },
  {
   "cell_type": "markdown",
   "id": "36c6f3d7",
   "metadata": {},
   "source": [
    "Now for the rows that still have null values (in the non-numeric columns), drop these rows from the dataframe"
   ]
  },
  {
   "cell_type": "code",
   "execution_count": null,
   "id": "221e78cd",
   "metadata": {},
   "outputs": [],
   "source": [
    "# Please write your code below\n",
    "..."
   ]
  },
  {
   "cell_type": "code",
   "execution_count": null,
   "id": "6c409429",
   "metadata": {},
   "outputs": [],
   "source": [
    "grader.check('q5')"
   ]
  },
  {
   "cell_type": "markdown",
   "id": "955a2000",
   "metadata": {},
   "source": [
    "**Question 5b:** A good data scientist needs to be able to justify his/her choices. Do you think this was a good way of dealing with missing values? Why or why not?"
   ]
  },
  {
   "cell_type": "code",
   "execution_count": null,
   "id": "d10525cf",
   "metadata": {},
   "outputs": [],
   "source": [
    "## Write your answer here:\n",
    "## ..."
   ]
  },
  {
   "cell_type": "markdown",
   "id": "d70776af",
   "metadata": {},
   "source": [
    "**Question 6:** While going through the dataframe, you might have noticed some discrepancies in the column names. We will rename these columns so that we can make more sense out of the data and comprehend it in a better way. The following column changes must be reflected in the dataframe.\n",
    "<ul>\n",
    "\n",
    "<li>Mdl --> model</li>\n",
    "<li> pc --> price</li>\n",
    "<li>reso --> res </li>\n",
    " <li> primary_camera_rear --> rear_megapixels</li>\n",
    "     <li> primary_camera_front --> front_megapixels</li>\n",
    "</ul>\n",
    "\n",
    "You should also drop the `rating` column."
   ]
  },
  {
   "cell_type": "code",
   "execution_count": null,
   "id": "baff2e2f",
   "metadata": {},
   "outputs": [],
   "source": [
    "# Please write your code below\n",
    "..."
   ]
  },
  {
   "cell_type": "code",
   "execution_count": null,
   "id": "7ad1bc1e",
   "metadata": {},
   "outputs": [],
   "source": [
    "grader.check('q6')"
   ]
  },
  {
   "cell_type": "markdown",
   "id": "66f24529",
   "metadata": {},
   "source": [
    "**Question 7:** There are some columns which have values of either `True` or `False`. Write a code snippet to replace these values with a 1 or a 0 respectively."
   ]
  },
  {
   "cell_type": "code",
   "execution_count": null,
   "id": "202e56c1",
   "metadata": {},
   "outputs": [],
   "source": [
    "# Please write your code below\n",
    "..."
   ]
  },
  {
   "cell_type": "code",
   "execution_count": null,
   "id": "608e8de2",
   "metadata": {},
   "outputs": [],
   "source": [
    "grader.check('q7')"
   ]
  },
  {
   "cell_type": "markdown",
   "id": "7d9a36e5",
   "metadata": {},
   "source": [
    "**Question 8:** Now that we have understood the whole dataframe and tweaked it up to make it more comprehensible, set the index of the data frame to `brand_name`"
   ]
  },
  {
   "cell_type": "code",
   "execution_count": null,
   "id": "21e79fcc",
   "metadata": {},
   "outputs": [],
   "source": [
    "# Please write your code below\n",
    "..."
   ]
  },
  {
   "cell_type": "code",
   "execution_count": null,
   "id": "6789f171",
   "metadata": {},
   "outputs": [],
   "source": [
    "grader.check('q8')"
   ]
  },
  {
   "cell_type": "markdown",
   "id": "340af931",
   "metadata": {},
   "source": [
    "**Question 9a:** Saad needs to buy a new phone and as a data scientist, he has selected you to help him make a decision. His maximum budget is 50,000 rupees. However, he does not want to trade off quality for a phone that is too cheap. Filter out all the phones that fall within his budget constraint but also cost at least 15,000 rupees, and store it in the variable `filteredPhones`."
   ]
  },
  {
   "cell_type": "code",
   "execution_count": null,
   "id": "4744c826",
   "metadata": {},
   "outputs": [],
   "source": [
    "# Please write your code below\n",
    "\n",
    "filteredPhones = ..."
   ]
  },
  {
   "cell_type": "code",
   "execution_count": null,
   "id": "81fcb942",
   "metadata": {},
   "outputs": [],
   "source": [
    "grader.check('q9a')"
   ]
  },
  {
   "cell_type": "markdown",
   "id": "e051cf6a",
   "metadata": {},
   "source": [
    "**Question 9b:** Next, saad gives you a list which contains preference values for certain smartphone features:\n",
    "\n",
    "| feature | preference value |\n",
    "|-----|-----|\n",
    "| number of cores | 3 |\n",
    "| battery capacity | 5 |\n",
    "| screen size | 2 |\n",
    "| refresh rate | 3 |\n",
    "| ram capacity | 4 |\n",
    "| internal memory | 5 |\n",
    "| processor speed | 4 |\n",
    "| rear camera megapixels | 3 |\n",
    "| front camera megapixels | 2 |\n",
    "\n",
    "Write a function `calculate` that takes a full row from the filtered dataset as a parameter and returns the score for the phone in that row by multiplying the preference values with the corresponding characterstics. **Hint:** There is a certain function which helps you print all column names in order (just in case you need to find their index)"
   ]
  },
  {
   "cell_type": "code",
   "execution_count": null,
   "id": "38470257",
   "metadata": {},
   "outputs": [],
   "source": [
    "# Please write your code below\n",
    "\n",
    "def calculate():\n",
    "    ..."
   ]
  },
  {
   "cell_type": "code",
   "execution_count": null,
   "id": "8dcfa529",
   "metadata": {},
   "outputs": [],
   "source": [
    "grader.check ('q9b')"
   ]
  },
  {
   "cell_type": "markdown",
   "id": "d9b009b8",
   "metadata": {},
   "source": [
    "**Question 9c** Make a new dataframe with scores for each of the filtered phones along with their price, os and processor brand . Note: Order should be `score`, `price`, `os`,`processor_brand` with `model` as index. Assign it to `phoneScores`."
   ]
  },
  {
   "cell_type": "code",
   "execution_count": null,
   "id": "ead8c436",
   "metadata": {},
   "outputs": [],
   "source": [
    "# Please write your code below\n",
    "\n",
    "phoneScores = ..."
   ]
  },
  {
   "cell_type": "code",
   "execution_count": null,
   "id": "0b1abd6f",
   "metadata": {},
   "outputs": [],
   "source": [
    "grader.check('q9c')"
   ]
  },
  {
   "cell_type": "markdown",
   "id": "d173c5a5",
   "metadata": {},
   "source": [
    "**Question 9d** Using a pivot table, count the number of different processor brands each operating system (os) has. **Note:** Keep the operating system as the column. Assign the pivot table to the variable `pivotTable`"
   ]
  },
  {
   "cell_type": "code",
   "execution_count": null,
   "id": "57518213",
   "metadata": {},
   "outputs": [],
   "source": [
    "# Please write your code below\n",
    "\n",
    "pivotTable = ..."
   ]
  },
  {
   "cell_type": "code",
   "execution_count": null,
   "id": "25cd191c",
   "metadata": {},
   "outputs": [],
   "source": [
    "grader.check('q9d')"
   ]
  },
  {
   "cell_type": "markdown",
   "id": "3d61af8d",
   "metadata": {},
   "source": [
    "**Question 9e** Using the phoneScores dataframe, Saad wants you to check for the most popular processor brand. Create a horizontal bar plot, where the y-axis contains each processor brand and the x-axis contains the number of phones using that brand of processor. Then write a code snippet to find the most popular brand and store this in the variable `most_popular_processor`"
   ]
  },
  {
   "cell_type": "code",
   "execution_count": null,
   "id": "6a413df0",
   "metadata": {},
   "outputs": [],
   "source": [
    "# Please write your code below\n",
    "\n",
    "most_popular_processor = ..."
   ]
  },
  {
   "cell_type": "code",
   "execution_count": null,
   "id": "0874f1e4",
   "metadata": {},
   "outputs": [],
   "source": [
    "grader.check('q9e')"
   ]
  },
  {
   "cell_type": "markdown",
   "id": "920c66c7",
   "metadata": {},
   "source": [
    "**Question 9f** Saad now decides that he only wants an android phone with the most popular processor. Filter your results from the `phoneScores` dataframe to find phones with android operating systems and the processor brand you shortlisted in Q9e and store them in the variable `androidPhones`."
   ]
  },
  {
   "cell_type": "code",
   "execution_count": null,
   "id": "b13c4c85",
   "metadata": {},
   "outputs": [],
   "source": [
    "# Please write your code below\n",
    "\n",
    "androidPhones = ..."
   ]
  },
  {
   "cell_type": "code",
   "execution_count": null,
   "id": "23f82b92",
   "metadata": {},
   "outputs": [],
   "source": [
    "grader.check('q9f')"
   ]
  },
  {
   "cell_type": "markdown",
   "id": "8570601a",
   "metadata": {},
   "source": [
    "**Question 9g** Finally, from these filtered android phones, find out the top 5 phones with the highest scores. Plot a bar chart for these phones with their model on the x axis and price on the y axis."
   ]
  },
  {
   "cell_type": "code",
   "execution_count": null,
   "id": "376c2fd2",
   "metadata": {},
   "outputs": [],
   "source": [
    "# Please write your code below\n",
    "..."
   ]
  },
  {
   "cell_type": "markdown",
   "id": "61c4620a",
   "metadata": {},
   "source": [
    "**Question 9h** From these top 5 phones, Saad wants to buy the cheapest one. Use a python function to find the cheapest phone from these top 5 phones. Then visually find the cheapest phone from your bar chart. Do they match? If so, store the model name in the variable `finalPhone`."
   ]
  },
  {
   "cell_type": "code",
   "execution_count": null,
   "id": "655dcb6f",
   "metadata": {},
   "outputs": [],
   "source": [
    "# Please write your code below\n",
    "\n",
    "finalPhone = ..."
   ]
  },
  {
   "cell_type": "code",
   "execution_count": null,
   "id": "800195ea",
   "metadata": {},
   "outputs": [],
   "source": [
    "grader.check('q9h')"
   ]
  },
  {
   "cell_type": "markdown",
   "id": "983f1967",
   "metadata": {},
   "source": [
    "**Question 10** Using the original dataset `smartPhoneData`, find out if the average price of Android phones is higher than apple (ios) Phones. Make a variable names `higher_price` and store the string `Yes` or `No` in it depending on your answer. `Yes` indicating that Android phones are more expensive, on average."
   ]
  },
  {
   "cell_type": "code",
   "execution_count": null,
   "id": "2e882de8",
   "metadata": {},
   "outputs": [],
   "source": [
    "# Please write your code below\n",
    "\n",
    "higher_price = ..."
   ]
  },
  {
   "cell_type": "code",
   "execution_count": null,
   "id": "a128a4fe",
   "metadata": {},
   "outputs": [],
   "source": [
    "grader.check(\"q10\")"
   ]
  },
  {
   "cell_type": "markdown",
   "id": "4bd35159",
   "metadata": {},
   "source": [
    "**Question 11** How many phones have a price and battery capacity below the thresholds mentioned below? Store it in the variable `numberOfPhones`. (Use the original dataset)\n",
    "<br>\n",
    "The column `faulty` in the original dataset indicates if a phone has known faults or not. `1` indicates there are known faults and `0` indicates there are no known faults.\n",
    "Do you think phones with a lower price and battery capacity than the threshold have a higher probability of getting a fault? Justify this claim by providing a valid analysis."
   ]
  },
  {
   "cell_type": "code",
   "execution_count": null,
   "id": "363a0a24",
   "metadata": {},
   "outputs": [],
   "source": [
    "priceThreshold = 50000\n",
    "batteryThreshold = 3000\n",
    "\n",
    "# Please write your code below\n",
    "\n",
    "numberOfPhones = ...\n",
    "\n",
    "## Provide an explanation for your answer below\n",
    "## ..."
   ]
  },
  {
   "cell_type": "code",
   "execution_count": null,
   "id": "db12267a",
   "metadata": {},
   "outputs": [],
   "source": [
    "grader.check(\"q11\")"
   ]
  },
  {
   "cell_type": "markdown",
   "id": "9c552323",
   "metadata": {},
   "source": [
    "End of Assignment 01 🙏"
   ]
  }
 ],
 "metadata": {
  "kernelspec": {
   "display_name": "Python 3 (ipykernel)",
   "language": "python",
   "name": "python3"
  },
  "language_info": {
   "codemirror_mode": {
    "name": "ipython",
    "version": 3
   },
   "file_extension": ".py",
   "mimetype": "text/x-python",
   "name": "python",
   "nbconvert_exporter": "python",
   "pygments_lexer": "ipython3",
   "version": "3.9.12"
  }
 },
 "nbformat": 4,
 "nbformat_minor": 5
}
